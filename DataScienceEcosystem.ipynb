{
 "cells": [
  {
   "cell_type": "markdown",
   "id": "3dc6081f",
   "metadata": {},
   "source": [
    "# Data Science Tools and Ecosystem"
   ]
  },
  {
   "cell_type": "markdown",
   "id": "ed537571",
   "metadata": {},
   "source": [
    "In this notebook, Data Science Tools and Ecosystem are summarized."
   ]
  },
  {
   "cell_type": "markdown",
   "id": "509ab07b",
   "metadata": {},
   "source": [
    "Some of the popular languages that Data Scientists use are:\n",
    "\n",
    "1. Python\n",
    "2. R\n",
    "3. SQL "
   ]
  },
  {
   "cell_type": "markdown",
   "id": "3b6d6d49",
   "metadata": {},
   "source": [
    "Some of the commonly used libraries used by Data Scientists include:\n",
    "\n",
    "1. NumPy\n",
    "2. Pandas\n",
    "3. Matplotlib\n",
    "4. Scikit-Learn\n",
    "5. Tensorflow"
   ]
  },
  {
   "cell_type": "markdown",
   "id": "134720b5",
   "metadata": {},
   "source": [
    "| Data Science Tools |\n",
    "|-----------------------|\n",
    "| Jupyter Notebook |\n",
    "| Spyder |\n",
    "| RStudio |\n"
   ]
  },
  {
   "cell_type": "markdown",
   "id": "50c0be95",
   "metadata": {},
   "source": [
    "### Below are a few examples of evaluating arithmetic expressions in Python.\n"
   ]
  },
  {
   "cell_type": "code",
   "execution_count": null,
   "id": "6ff65968",
   "metadata": {},
   "outputs": [],
   "source": [
    "# This is a simple arithmetic expression to multiply then add integers.\n",
    "result = (3*4) + 5\n",
    "print(result)\n"
   ]
  },
  {
   "cell_type": "code",
   "execution_count": null,
   "id": "e89955e8",
   "metadata": {},
   "outputs": [],
   "source": [
    "# This will convert 200 minutes to hours by dividing by 60.\n",
    "minutes = 200\n",
    "hours = minutes / 60\n",
    "print(hours)\n"
   ]
  },
  {
   "cell_type": "markdown",
   "id": "71102f43",
   "metadata": {},
   "source": [
    "## Objectives:\n",
    "\n",
    "- Understand the importance of data science in today's world.\n",
    "- Learn about the different tools and languages used in data science.\n",
    "- Gain knowledge about data cleaning, exploration, visualization, and modeling.\n",
    "- Discover best practices for data analysis and machine learning.\n",
    "- Apply what you've learned to real-world datasets through case studies and exercises.\n"
   ]
  },
  {
   "cell_type": "markdown",
   "id": "e4d2f464",
   "metadata": {},
   "source": [
    "## Author\n",
    "Shoaib Ul Haq\n"
   ]
  },
  {
   "cell_type": "code",
   "execution_count": null,
   "id": "d4a55869",
   "metadata": {},
   "outputs": [],
   "source": []
  }
 ],
 "metadata": {
  "kernelspec": {
   "display_name": "Python 3 (ipykernel)",
   "language": "python",
   "name": "python3"
  },
  "language_info": {
   "codemirror_mode": {
    "name": "ipython",
    "version": 3
   },
   "file_extension": ".py",
   "mimetype": "text/x-python",
   "name": "python",
   "nbconvert_exporter": "python",
   "pygments_lexer": "ipython3",
   "version": "3.10.9"
  }
 },
 "nbformat": 4,
 "nbformat_minor": 5
}
